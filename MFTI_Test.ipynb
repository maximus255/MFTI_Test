{
 "cells": [
  {
   "cell_type": "markdown",
   "id": "f5d78da9-822c-42c3-ac96-da803422212d",
   "metadata": {
    "id": "f5d78da9-822c-42c3-ac96-da803422212d",
    "tags": []
   },
   "source": [
    "# Test MFTI training"
   ]
  },
  {
   "cell_type": "code",
   "execution_count": null,
   "id": "9lXjy16I4AZo",
   "metadata": {
    "colab": {
     "base_uri": "https://localhost:8080/"
    },
    "executionInfo": {
     "elapsed": 12964,
     "status": "ok",
     "timestamp": 1735382995594,
     "user": {
      "displayName": "Maxim Chernousov",
      "userId": "13910571081910520360"
     },
     "user_tz": -180
    },
    "id": "9lXjy16I4AZo",
    "outputId": "926c7329-5521-47de-cb78-1c8df9faad43"
   },
   "outputs": [],
   "source": [
    "#!pip install segmentation_models_pytorch\n",
    "#!pip install torchmetrics"
   ]
  },
  {
   "cell_type": "code",
   "execution_count": 1,
   "id": "cd1c249c-4b09-4b51-83f0-761e954bc50c",
   "metadata": {
    "executionInfo": {
     "elapsed": 9703,
     "status": "ok",
     "timestamp": 1735383021809,
     "user": {
      "displayName": "Maxim Chernousov",
      "userId": "13910571081910520360"
     },
     "user_tz": -180
    },
    "id": "cd1c249c-4b09-4b51-83f0-761e954bc50c",
    "tags": []
   },
   "outputs": [],
   "source": [
    "import torch\n",
    "from torch.utils.data import Dataset\n",
    "from torchvision import transforms\n",
    "from torchvision.transforms import InterpolationMode\n",
    "from pathlib import Path\n",
    "from typing import Any, Callable, Optional\n",
    "import numpy as np\n",
    "from PIL import Image\n",
    "import matplotlib.pyplot as plt\n",
    "import segmentation_models_pytorch as smp\n",
    "import random\n",
    "import sys\n",
    "import os\n",
    "from torch.nn import CrossEntropyLoss\n",
    "from torch.optim import Adam\n",
    "from torch.utils.data import DataLoader\n",
    "import time\n",
    "from torchmetrics.segmentation import MeanIoU\n",
    "from torch import randint"
   ]
  },
  {
   "cell_type": "code",
   "execution_count": 2,
   "id": "P-tmj-yeQHK0",
   "metadata": {
    "colab": {
     "base_uri": "https://localhost:8080/"
    },
    "executionInfo": {
     "elapsed": 264,
     "status": "ok",
     "timestamp": 1735383027545,
     "user": {
      "displayName": "Maxim Chernousov",
      "userId": "13910571081910520360"
     },
     "user_tz": -180
    },
    "id": "P-tmj-yeQHK0",
    "outputId": "ef1c2877-822b-4ce6-e025-a9232c77c79c",
    "tags": []
   },
   "outputs": [
    {
     "name": "stdout",
     "output_type": "stream",
     "text": [
      "cpu\n"
     ]
    }
   ],
   "source": [
    "DEVICE = \"cuda\" if torch.cuda.is_available() else \"cpu\"\n",
    "print(DEVICE)"
   ]
  },
  {
   "cell_type": "code",
   "execution_count": 3,
   "id": "2071f862-8be3-40d7-b7b2-e0bd221c6a10",
   "metadata": {
    "colab": {
     "base_uri": "https://localhost:8080/"
    },
    "executionInfo": {
     "elapsed": 24127,
     "status": "ok",
     "timestamp": 1735383055897,
     "user": {
      "displayName": "Maxim Chernousov",
      "userId": "13910571081910520360"
     },
     "user_tz": -180
    },
    "id": "2071f862-8be3-40d7-b7b2-e0bd221c6a10",
    "outputId": "ed04b8dd-7ba2-49c7-b21f-0ba6158d99bf",
    "tags": []
   },
   "outputs": [],
   "source": [
    "USE_GOOGLE_DRIVE = False\n",
    "if USE_GOOGLE_DRIVE:\n",
    "    from google.colab import drive\n",
    "    drive.mount('/content/drive')"
   ]
  },
  {
   "cell_type": "code",
   "execution_count": 4,
   "id": "d2805a4a-64ca-49c2-a41c-6e793e576390",
   "metadata": {
    "colab": {
     "base_uri": "https://localhost:8080/"
    },
    "executionInfo": {
     "elapsed": 271,
     "status": "ok",
     "timestamp": 1735383070150,
     "user": {
      "displayName": "Maxim Chernousov",
      "userId": "13910571081910520360"
     },
     "user_tz": -180
    },
    "id": "d2805a4a-64ca-49c2-a41c-6e793e576390",
    "outputId": "285b84d6-fc1e-4b5f-a3fb-528525377250",
    "tags": []
   },
   "outputs": [],
   "source": [
    "if USE_GOOGLE_DRIVE:\n",
    "    py_file_location = \"/content/drive/MyDrive/AI\"\n",
    "    sys.path.append(os.path.abspath(py_file_location))\n",
    "    root_dataset = str(os.path.join(py_file_location, \"Pascal-part\"))\n",
    "    BASE_OUTPUT = \"/content/drive/MyDrive/AI/MFTI/output\"\n",
    "    print(\"py_file_location=\",py_file_location)\n",
    "else:\n",
    "    BASE_OUTPUT = \"output\"\n",
    "    root_dataset = \"Pascal-part\""
   ]
  },
  {
   "cell_type": "code",
   "execution_count": 5,
   "id": "353307e1-f270-47f5-b08a-6fab34381423",
   "metadata": {
    "executionInfo": {
     "elapsed": 256,
     "status": "ok",
     "timestamp": 1735383073895,
     "user": {
      "displayName": "Maxim Chernousov",
      "userId": "13910571081910520360"
     },
     "user_tz": -180
    },
    "id": "353307e1-f270-47f5-b08a-6fab34381423",
    "tags": []
   },
   "outputs": [],
   "source": [
    "class PascalDataset(Dataset):\n",
    "    def __init__(self, basic_path='',subset='train',n_limit=None,transforms=None, transforms_mask=None):\n",
    "        if subset == None or subset not in [\"train\", \"val\"]:\n",
    "            raise (ValueError(\n",
    "                f\"{subset} is not a valid input. Acceptable values are \\\"train\\\" and \\\"val\\\".\"\n",
    "            ))\n",
    "        self.n_limit = n_limit\n",
    "        self.transforms = transforms; self.transforms_mask = transforms_mask\n",
    "        self.basic_path = basic_path\n",
    "        self.imgs_path = Path(basic_path) / 'JPEGImages'\n",
    "        self.msks_path = Path(basic_path) / 'gt_masks'\n",
    "        file_name = 'train_id.txt' if subset == 'train' else 'val_id.txt'\n",
    "        files_list_path = Path(basic_path) / file_name\n",
    "        if not files_list_path.exists():\n",
    "            raise OSError(f\"{files_list_path} does not exist.\")\n",
    "        # else:\n",
    "        #     print(f\"files list path is \",files_list_path)\n",
    "\n",
    "        with open(files_list_path) as f:\n",
    "            #self.ids = f.readlines()\n",
    "            self.ids = [line.rstrip('\\n') for line in f]\n",
    "        if n_limit is not None:\n",
    "            n_limit = min(n_limit,len(self.ids))\n",
    "            self.ids = self.ids[:n_limit]\n",
    "            print(\"Dataset length is limited with\",n_limit)\n",
    "        #print(f\"ids is {type(self.ids)}\",len(self.ids))\n",
    "        #print(self.ids[:20])\n",
    "\n",
    "    def __len__(self) -> int:\n",
    "        return len(self.ids)\n",
    "\n",
    "    def __getitem__(self, index: int) -> Any:\n",
    "        idd = self.ids[index]\n",
    "        file_name = idd+'.jpg'\n",
    "        img_path = self.imgs_path / file_name\n",
    "        if not img_path.exists():\n",
    "            raise OSError(f\"Img path {img_path} does not exist.\")\n",
    "        # else:\n",
    "        #     print(f\"Img path is \",img_path)\n",
    "\n",
    "        file_name = idd+'.npy'\n",
    "        msk_path = self.msks_path / file_name\n",
    "        if not msk_path.exists():\n",
    "            raise OSError(f\"Msk path {msk_path} does not exist.\")\n",
    "        # else:\n",
    "        #     print(f\"Msk path is \",msk_path)\n",
    "\n",
    "        image = np.asarray(Image.open(img_path))\n",
    "        mask = np.load(msk_path)\n",
    "\n",
    "        if image.shape[:2] != mask.shape:\n",
    "            raise OSError(f\"image.shape {image.shape} is not match to mask {mask.shape}\")\n",
    "\n",
    "        #! for not normalize mask in [0. .. 1.] but left in [0 .. 6]\n",
    "        mask = mask.astype(np.int64)\n",
    "\n",
    "        if self.transforms:\n",
    "            image = self.transforms(image.copy()) #.copy() to make writable\n",
    "        if self.transforms_mask:\n",
    "            mask = self.transforms_mask(mask.copy())\n",
    "        #mask = mask.to(torch.float) # ?\n",
    "\n",
    "        #mask = mask.squeeze(0) # remote one extra dimention\n",
    "\n",
    "        #print(\"img is\",type(image), \" msk is\",type(mask), image.shape, mask.shape, image.dtype, mask.dtype)\n",
    "\n",
    "        return {'image':image, 'mask':mask}"
   ]
  },
  {
   "cell_type": "markdown",
   "id": "a260de01-ab60-43eb-aa05-314a9ce086c6",
   "metadata": {
    "id": "a260de01-ab60-43eb-aa05-314a9ce086c6"
   },
   "source": [
    "## Test SataSet"
   ]
  },
  {
   "cell_type": "code",
   "execution_count": 6,
   "id": "a4f33adb-ca70-4c65-a5e4-9beb1c485074",
   "metadata": {
    "colab": {
     "base_uri": "https://localhost:8080/"
    },
    "executionInfo": {
     "elapsed": 9842,
     "status": "ok",
     "timestamp": 1735383087659,
     "user": {
      "displayName": "Maxim Chernousov",
      "userId": "13910571081910520360"
     },
     "user_tz": -180
    },
    "id": "a4f33adb-ca70-4c65-a5e4-9beb1c485074",
    "outputId": "7f084158-e66e-462f-bab4-c4fcff79bf9a",
    "tags": []
   },
   "outputs": [
    {
     "name": "stdout",
     "output_type": "stream",
     "text": [
      "test_mask is  <class 'numpy.ndarray'> (333, 500) uint8 5\n"
     ]
    }
   ],
   "source": [
    "test_path = root_dataset+'/gt_masks/2008_000003.npy'\n",
    "test_mask = np.load(test_path)\n",
    "print(\"test_mask is \",type(test_mask),test_mask.shape,test_mask.dtype, test_mask.max())"
   ]
  },
  {
   "cell_type": "code",
   "execution_count": 7,
   "id": "3c2cae37-9cc6-4b98-9e75-dda65a099cee",
   "metadata": {
    "colab": {
     "base_uri": "https://localhost:8080/"
    },
    "executionInfo": {
     "elapsed": 1193,
     "status": "ok",
     "timestamp": 1735383092331,
     "user": {
      "displayName": "Maxim Chernousov",
      "userId": "13910571081910520360"
     },
     "user_tz": -180
    },
    "id": "3c2cae37-9cc6-4b98-9e75-dda65a099cee",
    "outputId": "bf859144-00d7-42b6-cfea-090e9c79eda1",
    "tags": []
   },
   "outputs": [
    {
     "name": "stdout",
     "output_type": "stream",
     "text": [
      "Dataset length is limited with 100\n",
      "dataset len= 100\n",
      "sample is  <class 'dict'>\n",
      "tensor([[[0, 0, 0,  ..., 0, 0, 0],\n",
      "         [0, 0, 0,  ..., 0, 0, 0],\n",
      "         [0, 0, 0,  ..., 0, 0, 0],\n",
      "         ...,\n",
      "         [0, 0, 0,  ..., 1, 1, 0],\n",
      "         [0, 0, 0,  ..., 0, 0, 0],\n",
      "         [0, 0, 0,  ..., 0, 0, 0]]]) tensor(6)\n"
     ]
    }
   ],
   "source": [
    "mean = [0.485, 0.456, 0.406]\n",
    "std = [0.229, 0.224, 0.225]\n",
    "transforms_mask = transforms.Compose([transforms.ToTensor(),transforms.Resize(size=(400,400),antialias=True)])\n",
    "transforms_image = transforms.Compose([transforms.ToTensor(),transforms.Resize(size=(400,400),antialias=False, interpolation=InterpolationMode.NEAREST),transforms.Normalize(mean, std)])\n",
    "\n",
    "dataset00 = PascalDataset(root_dataset,'val',n_limit=100,transforms=transforms_image,transforms_mask=transforms_mask)\n",
    "print(\"dataset len=\",len(dataset00))\n",
    "sample = dataset00[10]\n",
    "print('sample is ',type(sample))\n",
    "print(sample['mask'], sample['mask'].max())"
   ]
  },
  {
   "cell_type": "markdown",
   "id": "7a7b2f81-df51-45c4-b018-bf07061ca193",
   "metadata": {
    "id": "7a7b2f81-df51-45c4-b018-bf07061ca193"
   },
   "source": [
    "## test mIoU(s)"
   ]
  },
  {
   "cell_type": "code",
   "execution_count": 8,
   "id": "4ec75b19-a1bc-49b3-9d61-dea6fa1c737d",
   "metadata": {
    "colab": {
     "base_uri": "https://localhost:8080/"
    },
    "executionInfo": {
     "elapsed": 3370,
     "status": "ok",
     "timestamp": 1735383099462,
     "user": {
      "displayName": "Maxim Chernousov",
      "userId": "13910571081910520360"
     },
     "user_tz": -180
    },
    "id": "4ec75b19-a1bc-49b3-9d61-dea6fa1c737d",
    "outputId": "b18aeb35-1d6c-4300-c20b-b52c9a12875c",
    "tags": []
   },
   "outputs": [
    {
     "name": "stdout",
     "output_type": "stream",
     "text": [
      "x size  torch.Size([24, 1, 400, 400]) torch.int64\n"
     ]
    },
    {
     "data": {
      "text/plain": [
       "tensor(0.0758)"
      ]
     },
     "execution_count": 8,
     "metadata": {},
     "output_type": "execute_result"
    }
   ],
   "source": [
    "x = randint(0, 6, (24, 1, 400, 400)) # low hi size (batch, C, h, w)\n",
    "y = randint(0, 6, (24, 1, 400, 400)) # low hi size\n",
    "print(\"x size \",x.shape, x.dtype)\n",
    "miou2 = MeanIoU(num_classes=7, per_class=False, include_background=False, input_format='index').to(DEVICE)\n",
    "miou1 = MeanIoU(num_classes=3, per_class=False, include_background=False, input_format='index').to(DEVICE)\n",
    "miou0 = MeanIoU(num_classes=2, per_class=False, include_background=False, input_format='index').to(DEVICE)\n",
    "miou2(x,y)"
   ]
  },
  {
   "cell_type": "code",
   "execution_count": 9,
   "id": "b4f0a5b1-4347-442c-88ca-e06872b9c96a",
   "metadata": {
    "colab": {
     "base_uri": "https://localhost:8080/"
    },
    "executionInfo": {
     "elapsed": 278,
     "status": "ok",
     "timestamp": 1735383103893,
     "user": {
      "displayName": "Maxim Chernousov",
      "userId": "13910571081910520360"
     },
     "user_tz": -180
    },
    "id": "b4f0a5b1-4347-442c-88ca-e06872b9c96a",
    "outputId": "d69784a5-0187-4f13-d309-3c55f1bff6d7",
    "tags": []
   },
   "outputs": [
    {
     "name": "stdout",
     "output_type": "stream",
     "text": [
      "mask max tensor(2)  origin mask max= tensor(6)\n",
      "tensor([[[0, 0, 0,  ..., 0, 0, 0],\n",
      "         [0, 0, 0,  ..., 0, 0, 0],\n",
      "         [0, 0, 0,  ..., 0, 0, 0],\n",
      "         ...,\n",
      "         [0, 0, 0,  ..., 1, 1, 0],\n",
      "         [0, 0, 0,  ..., 0, 0, 0],\n",
      "         [0, 0, 0,  ..., 0, 0, 0]]]) tensor(1)\n"
     ]
    }
   ],
   "source": [
    "def mask_2_bodyparts(mask):\n",
    "    assert mask.dtype != torch.float, 'mask type should be integer not '+str(mask.dtype)\n",
    "    def f(x):\n",
    "        if x in [1,6,2,4]:\n",
    "            return 1\n",
    "        elif x in [3,5]:\n",
    "            return 2\n",
    "        else:\n",
    "            return 0\n",
    "    parts_mask = mask.cpu() if mask.is_cuda else mask.clone()\n",
    "    parts_mask.apply_(lambda x : f(x) )\n",
    "    return parts_mask.to(DEVICE)\n",
    "\n",
    "parts_mask = mask_2_bodyparts(sample['mask'])\n",
    "print(\"mask max\",parts_mask.max(),\" origin mask max=\",sample['mask'].max())\n",
    "def mask_2_body(mask):\n",
    "    body_mask = mask.cpu() if mask.is_cuda else mask.clone()\n",
    "    body_mask.apply_(lambda x: 1 if x>0 else 0)\n",
    "    return body_mask.to(DEVICE)\n",
    "body_mask = mask_2_body(parts_mask)\n",
    "print(body_mask,body_mask.max())"
   ]
  },
  {
   "cell_type": "code",
   "execution_count": 10,
   "id": "f674a5d3-57e2-4220-9ade-4122eaa8008b",
   "metadata": {
    "colab": {
     "base_uri": "https://localhost:8080/"
    },
    "executionInfo": {
     "elapsed": 3712,
     "status": "ok",
     "timestamp": 1735383111369,
     "user": {
      "displayName": "Maxim Chernousov",
      "userId": "13910571081910520360"
     },
     "user_tz": -180
    },
    "id": "f674a5d3-57e2-4220-9ade-4122eaa8008b",
    "outputId": "7b683145-b7be-43b9-867e-48551214bb2c",
    "tags": []
   },
   "outputs": [
    {
     "name": "stdout",
     "output_type": "stream",
     "text": [
      "torch.Size([24, 1, 400, 400]) torch.int64 tensor(2)\n",
      "tensor(0.2671)\n",
      "tensor(0.7146)\n"
     ]
    }
   ],
   "source": [
    "x1 = mask_2_bodyparts(x.to(DEVICE)); y1 = mask_2_bodyparts(y.to(DEVICE));\n",
    "x2 = mask_2_body(x1.to(DEVICE)); y2 = mask_2_body(y1.to(DEVICE));\n",
    "print(x1.shape,x1.dtype,x1.max())\n",
    "#print('x1:',x1)\n",
    "#print('y1:',y1)\n",
    "mUoI1 = miou1(x1,y1)\n",
    "print(mUoI1)\n",
    "print(miou0(x2,y2))"
   ]
  },
  {
   "cell_type": "markdown",
   "id": "c5ce9a46-6e59-416e-b490-7b06e1e73495",
   "metadata": {
    "id": "c5ce9a46-6e59-416e-b490-7b06e1e73495"
   },
   "source": [
    "## Rasterize test data sample"
   ]
  },
  {
   "cell_type": "code",
   "execution_count": 11,
   "id": "da87cde8-6584-4ac5-a87f-70387f1dd018",
   "metadata": {
    "colab": {
     "base_uri": "https://localhost:8080/",
     "height": 364
    },
    "executionInfo": {
     "elapsed": 1110,
     "status": "ok",
     "timestamp": 1735383127158,
     "user": {
      "displayName": "Maxim Chernousov",
      "userId": "13910571081910520360"
     },
     "user_tz": -180
    },
    "id": "da87cde8-6584-4ac5-a87f-70387f1dd018",
    "outputId": "559410bd-88d1-4e0a-86d0-e6132d4f9c3b",
    "tags": []
   },
   "outputs": [
    {
     "name": "stdout",
     "output_type": "stream",
     "text": [
      "min max norm: tensor([-2.1179, -2.0357, -1.8044]) tensor([2.2489, 2.4286, 2.6400]) tensor([4.3668, 4.4643, 4.4444])\n",
      "New min max norm: tensor([0., 0., 0.]) tensor([1., 1., 1.]) tensor([1., 1., 1.])\n",
      "min max norm: tensor([0]) tensor([6]) tensor([6])\n",
      "New min max norm: tensor([0.]) tensor([1.]) tensor([1.])\n"
     ]
    },
    {
     "data": {
      "image/png": "[encoded data removed]",
      "text/plain": [
       "<Figure size 640x480 with 2 Axes>"
      ]
     },
     "metadata": {},
     "output_type": "display_data"
    }
   ],
   "source": [
    "def raster_tensor(im_array,show=True):\n",
    "    #visualization\n",
    "    #if type(im_array).__name__ == torch.Tensor.__name__:\n",
    "    if type(im_array) == torch.Tensor:\n",
    "        #print('it is torch tensor' , im_array.dtype)\n",
    "        mn = torch.amin(im_array,dim=(1,2))\n",
    "        mx = torch.amax(im_array,dim=(1,2))\n",
    "        nrm = mx - mn\n",
    "        print('min max norm:',mn,mx, nrm)\n",
    "\n",
    "        mn = mn[:,None,None]\n",
    "        mx = mx[:,None,None]\n",
    "        nrm = nrm[:,None,None]\n",
    "        im_array = (im_array-mn)/nrm\n",
    "\n",
    "        mn = torch.amin(im_array,dim=(1,2))\n",
    "        mx = torch.amax(im_array,dim=(1,2))\n",
    "        nrm = mx - mn\n",
    "        print('New min max norm:',mn,mx, nrm)\n",
    "\n",
    "\n",
    "        #im_array = im_array.contiguous().numpy()\n",
    "        im_array = im_array.numpy()\n",
    "        #print(im_array.shape)\n",
    "\n",
    "\n",
    "        #print(type(im_array),im_array.shape)\n",
    "        im_array = im_array.transpose(1,2,0)\n",
    "        #print(\"transpose \",im_array.shape)\n",
    "\n",
    "    plt.imshow(im_array)\n",
    "    if show:\n",
    "        plt.show()\n",
    "plt.subplot(1, 2, 1)\n",
    "raster_tensor(sample['image'],show=False)\n",
    "plt.subplot(1, 2, 2)\n",
    "raster_tensor(sample['mask'],show=False)\n",
    "plt.show()"
   ]
  },
  {
   "cell_type": "code",
   "execution_count": 12,
   "id": "3f29e941-6e77-4231-a548-0b9113a14c1f",
   "metadata": {
    "colab": {
     "base_uri": "https://localhost:8080/",
     "height": 364
    },
    "executionInfo": {
     "elapsed": 480,
     "status": "ok",
     "timestamp": 1735383121058,
     "user": {
      "displayName": "Maxim Chernousov",
      "userId": "13910571081910520360"
     },
     "user_tz": -180
    },
    "id": "3f29e941-6e77-4231-a548-0b9113a14c1f",
    "outputId": "54bb8b1e-119e-4387-c65f-b47b762ab4a6",
    "tags": []
   },
   "outputs": [
    {
     "name": "stdout",
     "output_type": "stream",
     "text": [
      "min max norm: tensor([0]) tensor([2]) tensor([2])\n",
      "New min max norm: tensor([0.]) tensor([1.]) tensor([1.])\n",
      "min max norm: tensor([0]) tensor([1]) tensor([1])\n",
      "New min max norm: tensor([0.]) tensor([1.]) tensor([1.])\n"
     ]
    },
    {
     "data": {
      "image/png": "[encoded data removed]",
      "text/plain": [
       "<Figure size 640x480 with 2 Axes>"
      ]
     },
     "metadata": {},
     "output_type": "display_data"
    }
   ],
   "source": [
    "# test body and body's parts\n",
    "plt.subplot(1, 2, 1)\n",
    "raster_tensor(parts_mask.cpu(),show=False)\n",
    "plt.subplot(1, 2, 2)\n",
    "raster_tensor(body_mask.cpu(),show=False)\n",
    "plt.show()"
   ]
  },
  {
   "cell_type": "markdown",
   "id": "07432463-3cbf-407c-80da-0dd27ca77966",
   "metadata": {
    "id": "07432463-3cbf-407c-80da-0dd27ca77966"
   },
   "source": [
    "## Training"
   ]
  },
  {
   "cell_type": "code",
   "execution_count": 13,
   "id": "5139fddb-eb2e-434d-bcb4-db972bcc2e1d",
   "metadata": {
    "colab": {
     "base_uri": "https://localhost:8080/"
    },
    "executionInfo": {
     "elapsed": 27,
     "status": "ok",
     "timestamp": 1735329537135,
     "user": {
      "displayName": "Maxim Chernousov",
      "userId": "13910571081910520360"
     },
     "user_tz": -180
    },
    "id": "5139fddb-eb2e-434d-bcb4-db972bcc2e1d",
    "outputId": "5e7e5a53-5db5-4b6b-bc7f-263fd210c995",
    "tags": []
   },
   "outputs": [
    {
     "name": "stdout",
     "output_type": "stream",
     "text": [
      "num_workers= 4\n",
      "DEVICE is cpu\n"
     ]
    }
   ],
   "source": [
    "limit = 1600\n",
    "limit_test = 250\n",
    "num_workers =os.cpu_count()//2\n",
    "print(\"num_workers=\",num_workers)\n",
    "INIT_LR = 0.001\n",
    "WEIGHT_DECAY=1e-7 # regularizaion. 0 to switch off\n",
    "NUM_EPOCHS = 10\n",
    "BATCH_SIZE = 32\n",
    "PIN_MEMORY = True if DEVICE == \"cuda\" else False\n",
    "print(f\"DEVICE is\",DEVICE)"
   ]
  },
  {
   "cell_type": "code",
   "execution_count": 14,
   "id": "91ea95a6-5079-478c-a85e-0d203fe9673e",
   "metadata": {
    "colab": {
     "base_uri": "https://localhost:8080/"
    },
    "executionInfo": {
     "elapsed": 27,
     "status": "ok",
     "timestamp": 1735329537136,
     "user": {
      "displayName": "Maxim Chernousov",
      "userId": "13910571081910520360"
     },
     "user_tz": -180
    },
    "id": "91ea95a6-5079-478c-a85e-0d203fe9673e",
    "outputId": "60cac771-db1c-4958-ce9c-bbed31ff8541",
    "tags": []
   },
   "outputs": [
    {
     "name": "stdout",
     "output_type": "stream",
     "text": [
      "Random seed set as 0\n"
     ]
    }
   ],
   "source": [
    "def set_seed(seed: int = 0):\n",
    "    np.random.seed(seed)\n",
    "    random.seed(seed)\n",
    "    torch.manual_seed(seed)\n",
    "    torch.cuda.manual_seed(seed)\n",
    "    # When running on the CuDNN backend, two further options must be set\n",
    "    torch.backends.cudnn.deterministic = True\n",
    "    torch.backends.cudnn.benchmark = False\n",
    "    # Set a fixed value for the hash seed\n",
    "    os.environ[\"PYTHONHASHSEED\"] = str(seed)\n",
    "    print(f\"Random seed set as {seed}\")\n",
    "set_seed()"
   ]
  },
  {
   "cell_type": "code",
   "execution_count": 15,
   "id": "e582001a-f602-435f-b768-443925735df7",
   "metadata": {
    "colab": {
     "base_uri": "https://localhost:8080/"
    },
    "executionInfo": {
     "elapsed": 442,
     "status": "ok",
     "timestamp": 1735329537553,
     "user": {
      "displayName": "Maxim Chernousov",
      "userId": "13910571081910520360"
     },
     "user_tz": -180
    },
    "id": "e582001a-f602-435f-b768-443925735df7",
    "outputId": "54b73bfd-e188-49d8-df92-04efab1300c4",
    "tags": []
   },
   "outputs": [
    {
     "name": "stdout",
     "output_type": "stream",
     "text": [
      "{'input_space': 'RGB', 'input_range': [0, 1], 'mean': [0.485, 0.456, 0.406], 'std': [0.229, 0.224, 0.225]}\n",
      "[0.485, 0.456, 0.406] [0.229, 0.224, 0.225]\n"
     ]
    }
   ],
   "source": [
    "encoder_name=\"timm-mobilenetv3_small_minimal_100\" #\"timm-mobilenetv3_small_minimal_100\"\n",
    "encoder_weights=\"imagenet\"\n",
    "model = smp.create_model(\"DeepLabV3\", encoder_name=encoder_name, encoder_weights=encoder_weights, in_channels=3, classes=7  )\n",
    "#print(model)\n",
    "params = smp.encoders.get_preprocessing_params(encoder_name)\n",
    "print(params)\n",
    "mean = params['mean']\n",
    "std = params['std']\n",
    "print(mean, std)\n",
    "# models.list_models\n",
    "model = model.to(DEVICE)"
   ]
  },
  {
   "cell_type": "code",
   "execution_count": null,
   "id": "d8eb533b-9aca-4940-a0e2-5640dabc1de0",
   "metadata": {
    "colab": {
     "base_uri": "https://localhost:8080/"
    },
    "executionInfo": {
     "elapsed": 8,
     "status": "ok",
     "timestamp": 1735329537553,
     "user": {
      "displayName": "Maxim Chernousov",
      "userId": "13910571081910520360"
     },
     "user_tz": -180
    },
    "id": "d8eb533b-9aca-4940-a0e2-5640dabc1de0",
    "outputId": "f4944009-21d3-4c2e-d8bb-13cba01c4178",
    "tags": []
   },
   "outputs": [
    {
     "name": "stdout",
     "output_type": "stream",
     "text": [
      "Dataset length is limited with 500\n",
      "train DataSet len= 2826\n",
      "verification DataSet len= 500\n"
     ]
    }
   ],
   "source": [
    "trainDS = PascalDataset(root_dataset,'train',n_limit=limit,transforms=transforms_image,transforms_mask=transforms_mask)\n",
    "testDS = PascalDataset(root_dataset,'val',n_limit=limit_test,transforms=transforms_image,transforms_mask=transforms_mask)\n",
    "print(f\"train DataSet len=\",len(trainDS))\n",
    "print(f\"verification DataSet len=\",len(testDS))"
   ]
  },
  {
   "cell_type": "code",
   "execution_count": null,
   "id": "2b9d806c-c8eb-4568-a777-f01f0888cea5",
   "metadata": {
    "colab": {
     "base_uri": "https://localhost:8080/"
    },
    "executionInfo": {
     "elapsed": 8,
     "status": "ok",
     "timestamp": 1735329537554,
     "user": {
      "displayName": "Maxim Chernousov",
      "userId": "13910571081910520360"
     },
     "user_tz": -180
    },
    "id": "2b9d806c-c8eb-4568-a777-f01f0888cea5",
    "outputId": "eebe50c9-34ab-4cfa-f5b5-cc08112c2d8f",
    "tags": []
   },
   "outputs": [
    {
     "name": "stdout",
     "output_type": "stream",
     "text": [
      "trainLoader = <class 'torch.utils.data.dataloader.DataLoader'>\n"
     ]
    }
   ],
   "source": [
    "# create the training and test data loaders\n",
    "trainLoader = DataLoader(trainDS, shuffle=True,\n",
    "    batch_size=BATCH_SIZE, pin_memory=PIN_MEMORY #)\n",
    "    ,num_workers=num_workers)\n",
    "testLoader = DataLoader(testDS, shuffle=False,\n",
    "    batch_size=BATCH_SIZE, pin_memory=PIN_MEMORY #)\n",
    "    ,num_workers=num_workers)\n",
    "print(f'trainLoader = {type(trainLoader)}')"
   ]
  },
  {
   "cell_type": "code",
   "execution_count": null,
   "id": "200bec9e-15f4-40c2-946d-874a3e712287",
   "metadata": {
    "id": "200bec9e-15f4-40c2-946d-874a3e712287",
    "tags": []
   },
   "outputs": [],
   "source": [
    "import torch.nn as nn\n",
    "class IoULoss(nn.Module):\n",
    "    def __init__(self, weight=None, size_average=True):\n",
    "        super(IoULoss, self).__init__()\n",
    "\n",
    "    def forward(self, inputs, targets, smooth=1):\n",
    "\n",
    "        #comment out if your model contains a sigmoid or equivalent activation layer\n",
    "        inputs = F.sigmoid(inputs)\n",
    "\n",
    "        #flatten label and prediction tensors\n",
    "        inputs = inputs.view(-1)\n",
    "        targets = targets.view(-1)\n",
    "\n",
    "        #intersection is equivalent to True Positive count\n",
    "        #union is the mutually inclusive area of all labels & predictions\n",
    "        intersection = (inputs * targets).sum()\n",
    "        total = (inputs + targets).sum()\n",
    "        union = total - intersection\n",
    "\n",
    "        IoU = (intersection + smooth)/(union + smooth)\n",
    "\n",
    "        return 1 - IoU"
   ]
  },
  {
   "cell_type": "code",
   "execution_count": null,
   "id": "e6df2da4-2bbb-40b9-ac6f-97c605161bd4",
   "metadata": {
    "colab": {
     "base_uri": "https://localhost:8080/"
    },
    "executionInfo": {
     "elapsed": 6,
     "status": "ok",
     "timestamp": 1735329537554,
     "user": {
      "displayName": "Maxim Chernousov",
      "userId": "13910571081910520360"
     },
     "user_tz": -180
    },
    "id": "e6df2da4-2bbb-40b9-ac6f-97c605161bd4",
    "outputId": "5a65a473-b3e0-4ba0-c6ba-beda3c8a02db",
    "tags": []
   },
   "outputs": [
    {
     "name": "stdout",
     "output_type": "stream",
     "text": [
      "trainSteps = 117, testSteps=20\n"
     ]
    }
   ],
   "source": [
    "# initialize loss function and optimizer\n",
    "lossFunc = CrossEntropyLoss()\n",
    "opt = Adam(model.parameters(), lr=INIT_LR)#, weight_decay=WEIGHT_DECAY)\n",
    "# calculate steps per epoch for training and test set\n",
    "trainSteps = len(trainDS) // BATCH_SIZE\n",
    "testSteps = len(testDS) // BATCH_SIZE\n",
    "# initialize a dictionary to store training history\n",
    "H = {\"train_loss\": [], \"test_loss\": [], \"mUoI_0\":[], \"mUoI_1\":[],\"mUoI_2\":[]}\n",
    "print(f\"trainSteps = {trainSteps}, testSteps={testSteps}\")"
   ]
  },
  {
   "cell_type": "code",
   "execution_count": null,
   "id": "892a9b6f-41a5-4052-b940-2fc42d61dfa9",
   "metadata": {
    "id": "892a9b6f-41a5-4052-b940-2fc42d61dfa9",
    "tags": []
   },
   "outputs": [],
   "source": [
    "def validateBatch(x,y):\n",
    "    if x.isnan().any():\n",
    "        #print('x=nan!')\n",
    "        return False\n",
    "    if x.isnan().any():\n",
    "        #print('y=nan!')\n",
    "        return False\n",
    "    return True"
   ]
  },
  {
   "cell_type": "code",
   "execution_count": null,
   "id": "cbd60925-74ad-40a0-945a-ba948e0b5ea1",
   "metadata": {
    "colab": {
     "base_uri": "https://localhost:8080/"
    },
    "executionInfo": {
     "elapsed": 1586,
     "status": "ok",
     "timestamp": 1735329539136,
     "user": {
      "displayName": "Maxim Chernousov",
      "userId": "13910571081910520360"
     },
     "user_tz": -180
    },
    "id": "cbd60925-74ad-40a0-945a-ba948e0b5ea1",
    "outputId": "3249a0e0-29c7-447f-fd09-34836c9450d2",
    "tags": []
   },
   "outputs": [
    {
     "name": "stdout",
     "output_type": "stream",
     "text": [
      "trainLoader is <class 'torch.utils.data.dataloader.DataLoader'> 118\n",
      "x is  <class 'dict'>\n",
      "img is  <class 'torch.Tensor'> torch.Size([24, 3, 400, 400]) \n",
      "msk is  <class 'torch.Tensor'> torch.Size([24, 1, 400, 400]) torch.int64\n",
      "one mask shape (1, 400, 400)\n",
      "argmax msk is torch.Size([24, 400, 400]) torch.int64\n",
      "pred is <class 'torch.Tensor'> torch.Size([24, 7, 400, 400]) torch.float32\n",
      "loss is <class 'torch.Tensor'> torch.Size([]) tensor(1.9166, device='cuda:0', grad_fn=<NllLoss2DBackward0>)\n",
      "pred is <class 'torch.Tensor'> torch.Size([24, 7, 400, 400]) torch.float32\n"
     ]
    }
   ],
   "source": [
    "#test Dataloader\n",
    "print(f\"trainLoader is {type(trainLoader)}\",len(trainLoader))\n",
    "x = next(iter(trainLoader))\n",
    "print(\"x is \",type(x))\n",
    "img = x['image']; msk = x['mask']\n",
    "print(\"img is \",type(img),img.size(),\"\\nmsk is \",type(msk),msk.size(),msk.dtype)\n",
    "#print(msk)\n",
    "#print(msk.max())\n",
    "#one_msk = msk[0].numpy()\n",
    "one_msk = msk[0,:,:,:].numpy()\n",
    "print(\"one mask shape\",one_msk.shape)\n",
    "\n",
    "img = img.to(DEVICE)\n",
    "msk = msk.to(DEVICE)\n",
    "\n",
    "#msk = torch.argmax(msk, dim=1)\n",
    "msk = msk.squeeze(1) # remove one extra dimention\n",
    "print(\"argmax msk is\",msk.shape, msk.dtype)\n",
    "\n",
    "#test model\n",
    "model.eval()\n",
    "pred = model(img)\n",
    "print(\"pred is\",type(pred),pred.shape,pred.dtype)\n",
    "loss = lossFunc(pred, msk )\n",
    "print(\"loss is\",type(loss), loss.shape, loss)\n",
    "print(\"pred is\",type(pred),pred.shape, pred.dtype)\n",
    "#del pred"
   ]
  },
  {
   "cell_type": "code",
   "execution_count": null,
   "id": "b3eb7987-b825-45a7-ad8d-1143cd6251b1",
   "metadata": {
    "colab": {
     "base_uri": "https://localhost:8080/"
    },
    "executionInfo": {
     "elapsed": 1777,
     "status": "ok",
     "timestamp": 1735329540910,
     "user": {
      "displayName": "Maxim Chernousov",
      "userId": "13910571081910520360"
     },
     "user_tz": -180
    },
    "id": "b3eb7987-b825-45a7-ad8d-1143cd6251b1",
    "outputId": "ba8a7a99-3a08-48ac-a60b-8a6c14c70bce",
    "tags": []
   },
   "outputs": [
    {
     "name": "stdout",
     "output_type": "stream",
     "text": [
      "pred after argmax <class 'torch.Tensor'> torch.Size([24, 400, 400]) torch.int64\n",
      "Mask bodyparts torch.Size([24, 400, 400]) torch.int64 tensor(2, device='cuda:0')\n",
      "Pred bodyparts torch.Size([24, 400, 400]) torch.int64 tensor(2, device='cuda:0')\n",
      "Mask body torch.Size([24, 400, 400]) torch.int64 tensor(1, device='cuda:0')\n",
      "Pred body torch.Size([24, 400, 400]) torch.int64 tensor(1, device='cuda:0')\n",
      "mIoU body parts tensor(0.0502, device='cuda:0')\n",
      "mIoU body tensor(0.1534, device='cuda:0')\n"
     ]
    }
   ],
   "source": [
    "pred0 = torch.argmax(pred, dim=1)\n",
    "print(\"pred after argmax\",type(pred0),pred0.shape, pred0.dtype)\n",
    "#pred0 = pred_max.unsqueeze(1)\n",
    "#print(\"pred unsqueezed\",type(pred0),pred0.shape, pred0.dtype)\n",
    "\n",
    "pred_1 = mask_2_bodyparts(pred0.cpu()); msk_1 = mask_2_bodyparts(msk.cpu());\n",
    "pred_2 = mask_2_body(pred_1); msk_2 = mask_2_body(msk_1);\n",
    "print(\"Mask bodyparts\", msk_1.shape,msk_1.dtype,msk_1.max())\n",
    "print(\"Pred bodyparts\", pred_1.shape,pred_1.dtype,pred_1.max())\n",
    "print(\"Mask body\", msk_2.shape,msk_2.dtype,msk_2.max())\n",
    "print(\"Pred body\", pred_2.shape,pred_2.dtype,pred_2.max())\n",
    "print(\"mIoU body parts\",miou1(pred_1,msk_1))\n",
    "print(\"mIoU body\",miou0(pred_2,msk_2))"
   ]
  },
  {
   "cell_type": "code",
   "execution_count": null,
   "id": "d778804a-8960-4443-9460-83a50240857f",
   "metadata": {
    "colab": {
     "base_uri": "https://localhost:8080/"
    },
    "executionInfo": {
     "elapsed": 4,
     "status": "ok",
     "timestamp": 1735329540910,
     "user": {
      "displayName": "Maxim Chernousov",
      "userId": "13910571081910520360"
     },
     "user_tz": -180
    },
    "id": "d778804a-8960-4443-9460-83a50240857f",
    "outputId": "76ad237e-29f3-490d-9a27-af57969b1c30",
    "tags": []
   },
   "outputs": [
    {
     "name": "stdout",
     "output_type": "stream",
     "text": [
      "UoI loss is <class 'torch.Tensor'> torch.Size([]) tensor(1.9166, device='cuda:0', grad_fn=<NllLoss2DBackward0>)\n",
      "IoU body parts tensor(470.2815, device='cuda:0')\n",
      "IoU body tensor(401.1878, device='cuda:0')\n"
     ]
    }
   ],
   "source": [
    "# test UoI loss\n",
    "UoILoss = IoULoss()\n",
    "loss = lossFunc(pred, msk )\n",
    "print(\"UoI loss is\",type(loss), loss.shape, loss)\n",
    "print(\"IoU body parts\",lossFunc(pred_1.clone().to(torch.float),msk_1.clone().to(torch.float)))\n",
    "print(\"IoU body\",lossFunc(pred_2.clone().to(torch.float),msk_2.clone().to(torch.float)))"
   ]
  },
  {
   "cell_type": "markdown",
   "id": "c616ad7d-543d-4863-aa0f-b0468690bb34",
   "metadata": {
    "id": "c616ad7d-543d-4863-aa0f-b0468690bb34"
   },
   "source": [
    "$$\n",
    "\\begin{align}\n",
    "& IoU^0 - body\\\\  \n",
    "& IoU^1 - body\\,parts\\\\  \n",
    "& IoU^2 - all\\,classes\n",
    "\\end{align}\n",
    "$$"
   ]
  },
  {
   "cell_type": "markdown",
   "id": "5454d139-679e-49da-bedb-17fedac16a8e",
   "metadata": {
    "id": "5454d139-679e-49da-bedb-17fedac16a8e"
   },
   "source": [
    "# START TRAIN"
   ]
  },
  {
   "cell_type": "code",
   "execution_count": null,
   "id": "17f83156-dbdc-4d09-8277-c7cf29d979cc",
   "metadata": {
    "colab": {
     "base_uri": "https://localhost:8080/"
    },
    "id": "17f83156-dbdc-4d09-8277-c7cf29d979cc",
    "outputId": "be7b6345-5ab9-48aa-f7d8-899d7086176d",
    "tags": []
   },
   "outputs": [
    {
     "name": "stdout",
     "output_type": "stream",
     "text": [
      "[INFO] training the network..., train set size is 118\n"
     ]
    },
    {
     "name": "stderr",
     "output_type": "stream",
     "text": [
      " 58%|█████▊    | 7/12 [28:24<20:16, 243.23s/it]"
     ]
    }
   ],
   "source": [
    "#eps = 0 #1e-10\n",
    "from tqdm import tqdm\n",
    "print(f\"[INFO] training the network..., train set size is {len(trainLoader)}\")\n",
    "startTime = time.time()\n",
    "for e in tqdm(range(NUM_EPOCHS)):\n",
    "    # set the model in training mode\n",
    "    model.train()\n",
    "    # initialize the total training and validation loss\n",
    "    totalTrainLoss = 0\n",
    "    totalTestLoss = 0\n",
    "    trainSteps1 = 0\n",
    "    testSteps1 = 0\n",
    "    total_mUoI_0 = 0; total_mUoI_1 = 0; total_mUoI_2 = 0\n",
    "    for (i, tmp) in enumerate(trainLoader):\n",
    "        x = tmp['image']; y=tmp['mask']\n",
    "        if len(x) != BATCH_SIZE:\n",
    "            #print(f'batch size ({len(x)}) != {BATCH_SIZE}, skip')\n",
    "            continue\n",
    "\n",
    "        if not validateBatch(x,y):\n",
    "            print('****************VAL TRAIN************************')\n",
    "            print('validateBatch False!')\n",
    "            continue\n",
    "        trainSteps1 += 1\n",
    "        # send the input to the device\n",
    "        (x, y) = (x.to(DEVICE), y.to(DEVICE))\n",
    "        # perform a forward pass and calculate the training loss\n",
    "        pred = model(x)\n",
    "        y = y.squeeze(1)\n",
    "        loss = lossFunc(pred, y )\n",
    "        # if i % 30 == 0:\n",
    "        #     print(f'loss = {loss}, i={i}')\n",
    "\n",
    "        opt.zero_grad()\n",
    "        loss.backward()\n",
    "        opt.step()\n",
    "        # add the loss to the total training loss so far\n",
    "        totalTrainLoss += loss\n",
    "    #print(f'totalTrainLoss={totalTrainLoss},trainSteps={trainSteps}')\n",
    "    with torch.no_grad():\n",
    "        # set the model in evaluation mode\n",
    "        model.eval()\n",
    "        # loop over the validation set\n",
    "        for (i, tmp) in enumerate(testLoader):\n",
    "            x = tmp['image']; y=tmp['mask']\n",
    "\n",
    "            if len(x) != BATCH_SIZE:\n",
    "                #print(f'validate batch size ({len(x)}) != {BATCH_SIZE}, skip')\n",
    "                continue\n",
    "\n",
    "            if not validateBatch(x,y):\n",
    "                print('****************VAL TEST************************')\n",
    "                print('validateBatch False!')\n",
    "                continue\n",
    "\n",
    "            testSteps1 += 1\n",
    "            # send the input to the device\n",
    "            (x, y) = (x.to(DEVICE), y.to(DEVICE))\n",
    "            # make the predictions and calculate the validation loss\n",
    "            pred = model(x)\n",
    "            y = y.squeeze(1)\n",
    "            loss = lossFunc(pred , y )\n",
    "            totalTestLoss += loss # lossFunc(pred, y)\n",
    "\n",
    "            #Calc mUoI(s) over a batch\n",
    "            # miou2 = MeanIoU(num_classes=7, per_class=False, include_background=False, input_format='index')\n",
    "            # miou1 = MeanIoU(num_classes=3, per_class=False, include_background=False, input_format='index')\n",
    "            # miou0 = MeanIoU(num_classes=2, per_class=False, include_background=False, input_format='index')\n",
    "            y_2 = y#.cpu();\n",
    "            pred_2 = torch.argmax(pred, dim=1) # probabilities to classes\n",
    "            pred_1 = mask_2_bodyparts(pred_2); y_1 = mask_2_bodyparts(y_2);\n",
    "            pred_0 = mask_2_body(pred_1); y_0 = mask_2_body(y_1);\n",
    "\n",
    "            total_mUoI_0 += miou0(pred_0,y_0) #body\n",
    "            total_mUoI_1 += miou1(pred_1,y_1) #body parts\n",
    "            total_mUoI_2 += miou2(pred_2,y_2) #all classes\n",
    "\n",
    "    # calculate the average training and validation loss\n",
    "    if trainSteps1 != 0:\n",
    "        avgTrainLoss = totalTrainLoss / trainSteps1\n",
    "    if testSteps1 != 0:\n",
    "        avgTestLoss = totalTestLoss / testSteps1\n",
    "        total_mUoI_0 /= testSteps1\n",
    "        total_mUoI_1 /= testSteps1\n",
    "        total_mUoI_2 /= testSteps1\n",
    "    # update our training history\n",
    "    H[\"train_loss\"].append(avgTrainLoss.cpu().detach().numpy())\n",
    "    H[\"test_loss\"].append(avgTestLoss.cpu().detach().numpy())\n",
    "    H[\"mUoI_0\"].append(total_mUoI_0.cpu().detach().numpy())\n",
    "    H[\"mUoI_1\"].append(total_mUoI_1.cpu().detach().numpy())\n",
    "    H[\"mUoI_2\"].append(total_mUoI_2.cpu().detach().numpy())\n",
    "    # print the model training and validation information\n",
    "    #print(\"[INFO] EPOCH: {}/{}\".format(e + 1, NUM_EPOCHS))\n",
    "    #print(\"Train loss: {:.6f}, Test loss: {:.4f}\".format(avgTrainLoss, avgTestLoss))\n",
    "# display the total time needed to perform the training\n",
    "endTime = time.time()\n",
    "print(\"[INFO] total time taken to train the model: {:.2f}s\".format(endTime - startTime))"
   ]
  },
  {
   "cell_type": "markdown",
   "id": "6a883d42-bcbb-43ac-bb76-6a8e61b98def",
   "metadata": {
    "id": "6a883d42-bcbb-43ac-bb76-6a8e61b98def"
   },
   "source": [
    "## Final save"
   ]
  },
  {
   "cell_type": "code",
   "execution_count": null,
   "id": "70804221-55d7-4c2c-9117-aeb550a444ca",
   "metadata": {
    "id": "70804221-55d7-4c2c-9117-aeb550a444ca"
   },
   "outputs": [],
   "source": [
    "MODEL_PATH = os.path.join(BASE_OUTPUT, \"deeplab_mobilenet.pth\")\n",
    "PLOT_PATH = os.path.sep.join([BASE_OUTPUT, \"plot.png\"])\n",
    "PLOT_PATH1 = os.path.sep.join([BASE_OUTPUT, \"plot1.png\"])\n",
    "\n",
    "# serialize the model to disk\n",
    "torch.save(model, MODEL_PATH)\n",
    "print('model saved')\n",
    "\n",
    "# plot the training loss\n",
    "plt.style.use(\"ggplot\")\n",
    "plt.figure()\n",
    "plt.plot(H[\"train_loss\"], label=\"train_loss\")\n",
    "plt.plot(H[\"test_loss\"], label=\"test_loss\")\n",
    "plt.title(\"Training Loss on Dataset\")\n",
    "plt.xlabel(\"Epoch #\")\n",
    "plt.ylabel(\"Loss\")\n",
    "plt.legend(loc=\"lower left\")\n",
    "plt.savefig(PLOT_PATH)\n",
    "\n",
    "plt.figure()\n",
    "plt.plot(H[\"mUoI_0\"], label=\"mUoI_0\")\n",
    "plt.plot(H[\"mUoI_1\"], label=\"mUoI_1\")\n",
    "plt.plot(H[\"mUoI_2\"], label=\"mUoI_2\")\n",
    "plt.title(\"mUoI metrics\")\n",
    "plt.xlabel(\"Epoch #\")\n",
    "plt.ylabel(\"mUoI\")\n",
    "plt.legend(loc=\"lower left\")\n",
    "plt.savefig(PLOT_PATH1)\n",
    "print(\"FINISH!\")"
   ]
  }
 ],
 "metadata": {
  "accelerator": "TPU",
  "colab": {
   "gpuType": "V28",
   "provenance": []
  },
  "kernelspec": {
   "display_name": "Python 3 (ipykernel)",
   "language": "python",
   "name": "python3"
  },
  "language_info": {
   "codemirror_mode": {
    "name": "ipython",
    "version": 3
   },
   "file_extension": ".py",
   "mimetype": "text/x-python",
   "name": "python",
   "nbconvert_exporter": "python",
   "pygments_lexer": "ipython3",
   "version": "3.8.10"
  }
 },
 "nbformat": 4,
 "nbformat_minor": 5
}
